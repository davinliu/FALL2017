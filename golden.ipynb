{
 "cells": [
  {
   "cell_type": "code",
   "execution_count": 1,
   "metadata": {},
   "outputs": [
    {
     "name": "stdout",
     "output_type": "stream",
     "text": [
      "0\n"
     ]
    }
   ],
   "source": [
    "function f(x)\n",
    "    return -x^2\n",
    "end\n",
    "a=0\n",
    "b=1\n",
    "tol=1.e-8\n",
    "d=1.e5\n",
    "while abs(d)>tol\n",
    " x1=0+((3-sqrt(5))/2)*(b-a)\n",
    " x2=0+((sqrt(5)-1)/2)*(b-a)\n",
    "    if f(x1)>f(x2)\n",
    "        b=x2\n",
    "    else\n",
    "        a=x1\n",
    "    end\n",
    "    d=f(a)-f(b)\n",
    "end\n",
    "println(a)"
   ]
  },
  {
   "cell_type": "code",
   "execution_count": null,
   "metadata": {
    "collapsed": true
   },
   "outputs": [],
   "source": []
  }
 ],
 "metadata": {
  "kernelspec": {
   "display_name": "Julia 0.6.0",
   "language": "julia",
   "name": "julia-0.6"
  },
  "language_info": {
   "file_extension": ".jl",
   "mimetype": "application/julia",
   "name": "julia",
   "version": "0.6.0"
  }
 },
 "nbformat": 4,
 "nbformat_minor": 2
}
